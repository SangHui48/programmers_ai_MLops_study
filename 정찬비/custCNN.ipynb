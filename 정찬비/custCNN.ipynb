{
 "cells": [
  {
   "cell_type": "markdown",
   "id": "c0f3af7a",
   "metadata": {},
   "source": [
    "### 모듈 임포트하기"
   ]
  },
  {
   "cell_type": "code",
   "execution_count": 4,
   "id": "8d418e4a",
   "metadata": {},
   "outputs": [],
   "source": [
    "import os\n",
    "\n",
    "import numpy as np\n",
    "import pandas as pd\n",
    "\n",
    "from PIL import Image\n",
    "import matplotlib.pyplot as plt\n",
    "%matplotlib inline\n",
    "\n",
    "from sklearn.model_selection import train_test_split\n",
    "\n",
    "import torch\n",
    "import torch.nn as nn\n",
    "import torch.nn.functional as F\n",
    "\n",
    "device = 'cuda' if torch.cuda.is_available() else 'cpu'"
   ]
  },
  {
   "cell_type": "markdown",
   "id": "cc2727d1",
   "metadata": {},
   "source": [
    "### 데이터셋 가져오기"
   ]
  },
  {
   "cell_type": "code",
   "execution_count": 3,
   "id": "9e89db4c",
   "metadata": {},
   "outputs": [],
   "source": [
    "images = []\n",
    "\n",
    "for dirname, _, filenames in os.walk('./COVID_19_XRAY/train'):\n",
    "    for filename in filenames:\n",
    "        if filename == 'labels.csv':\n",
    "            labels = pd.read_csv('./COVID_19_XRAY/train/labels.csv')\n",
    "            labels = labels.label.tolist()\n",
    "            labels = [1 if label=='covid' else 0 for label in labels]\n",
    "            continue\n",
    "            \n",
    "        path = os.path.join(dirname, filename)\n",
    "        image = Image.open(path)\n",
    "        image = np.array(image)\n",
    "        \n",
    "        images.append(image)"
   ]
  },
  {
   "cell_type": "markdown",
   "id": "73434b09",
   "metadata": {},
   "source": [
    "### 데이터셋 분류하기\n",
    "\n",
    "- train(8):valid(2) "
   ]
  },
  {
   "cell_type": "code",
   "execution_count": 6,
   "id": "0b286b13",
   "metadata": {},
   "outputs": [],
   "source": [
    "train_img, valid_img, train_labels, valid_labels = train_test_split(images, labels, test_size=0.2, random_state=33)"
   ]
  },
  {
   "cell_type": "markdown",
   "id": "3f93c13d",
   "metadata": {},
   "source": [
    "### CNN 모델 만들기"
   ]
  },
  {
   "cell_type": "code",
   "execution_count": 7,
   "id": "c2650dbc",
   "metadata": {},
   "outputs": [],
   "source": [
    "class CNN(nn.Module):\n",
    "    def __init__(self, hid_size, kernel_size, out_size, dropout=0.3):\n",
    "        super(CNN, self).__init__()\n",
    "        self.k_size = kernel_size\n",
    "        self.in_size = 255 - (2 * (self.k_size + 1))\n",
    "        self.h_size = hid_size\n",
    "        self.out_size = out_size\n",
    "        self.dropout = dropout\n",
    "        \n",
    "        self.conv1 = nn.Conv2d(in_channels=1, out_channels=3, kernel_size=self.k_size, stride=1)\n",
    "        self.conv2 = nn.Conv2d(in_channels=3, out_channels=10, kernel_size=self.k_size, stride=1)\n",
    "        self.in_size = (255 - 7) - 7\n",
    "        self.fc1 = nn.Linear(self.in_size, self.h_size)\n",
    "        self.fc2 = nn.Linear(self.h_size, self.out_size)\n",
    "        self.dropout = nn.Dropout(self.dropout)\n",
    "        \n",
    "    def forward(self, inputs):\n",
    "        x = F.relu(self.conv1(inputs))\n",
    "        x = F.relu(self.conv2(x))\n",
    "        x = x.view(-1, self.in_size)\n",
    "        x = F.relu(self.fc1(x))\n",
    "        x = self.fc2(x)\n",
    "        \n",
    "        return x"
   ]
  }
 ],
 "metadata": {
  "kernelspec": {
   "display_name": "AI_5",
   "language": "python",
   "name": "ai_5"
  },
  "language_info": {
   "codemirror_mode": {
    "name": "ipython",
    "version": 3
   },
   "file_extension": ".py",
   "mimetype": "text/x-python",
   "name": "python",
   "nbconvert_exporter": "python",
   "pygments_lexer": "ipython3",
   "version": "3.8.16"
  }
 },
 "nbformat": 4,
 "nbformat_minor": 5
}

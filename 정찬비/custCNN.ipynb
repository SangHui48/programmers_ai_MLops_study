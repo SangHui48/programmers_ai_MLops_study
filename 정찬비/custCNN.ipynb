{
 "cells": [
  {
   "cell_type": "markdown",
   "id": "c0f3af7a",
   "metadata": {},
   "source": [
    "### 모듈 임포트하기"
   ]
  },
  {
   "cell_type": "code",
   "execution_count": 1,
   "id": "8d418e4a",
   "metadata": {
    "scrolled": true
   },
   "outputs": [
    {
     "name": "stderr",
     "output_type": "stream",
     "text": [
      "C:\\Users\\chami\\anaconda3\\envs\\AI_5\\lib\\site-packages\\tqdm\\auto.py:21: TqdmWarning: IProgress not found. Please update jupyter and ipywidgets. See https://ipywidgets.readthedocs.io/en/stable/user_install.html\n",
      "  from .autonotebook import tqdm as notebook_tqdm\n"
     ]
    }
   ],
   "source": [
    "import os\n",
    "\n",
    "import numpy as np\n",
    "import pandas as pd\n",
    "\n",
    "from PIL import Image\n",
    "import matplotlib.pyplot as plt\n",
    "%matplotlib inline\n",
    "\n",
    "from sklearn.model_selection import train_test_split\n",
    "\n",
    "import torch\n",
    "import torch.nn as nn\n",
    "import torch.nn.functional as F\n",
    "from torch.utils.data import DataLoader\n",
    "\n",
    "from tqdm.autonotebook import tqdm as notebook_tqdm\n",
    "\n",
    "device = 'cuda' if torch.cuda.is_available() else 'cpu'"
   ]
  },
  {
   "cell_type": "markdown",
   "id": "cc2727d1",
   "metadata": {},
   "source": [
    "### 데이터셋 가져오기"
   ]
  },
  {
   "cell_type": "code",
   "execution_count": 2,
   "id": "9e89db4c",
   "metadata": {},
   "outputs": [],
   "source": [
    "images = []\n",
    "\n",
    "for dirname, _, filenames in os.walk('./COVID_19_XRAY/train'):\n",
    "    for filename in filenames:\n",
    "        if filename == 'labels.csv':\n",
    "            labels = pd.read_csv('./COVID_19_XRAY/train/labels.csv')\n",
    "            labels = labels.label.tolist()\n",
    "            labels = [1 if label=='covid' else 0 for label in labels]\n",
    "            continue\n",
    "            \n",
    "        path = os.path.join(dirname, filename)\n",
    "        image = Image.open(path)\n",
    "        image = np.array(image)\n",
    "        image = torch.tensor(image, dtype=torch.float32)\n",
    "        \n",
    "        images.append(image)"
   ]
  },
  {
   "cell_type": "markdown",
   "id": "73434b09",
   "metadata": {},
   "source": [
    "### 데이터셋 분류하기\n",
    "\n",
    "- train(8):valid(2) "
   ]
  },
  {
   "cell_type": "code",
   "execution_count": 3,
   "id": "0b286b13",
   "metadata": {},
   "outputs": [],
   "source": [
    "train_img, valid_img, train_labels, valid_labels = train_test_split(images, labels, test_size=0.2, random_state=33)"
   ]
  },
  {
   "cell_type": "markdown",
   "id": "3f93c13d",
   "metadata": {},
   "source": [
    "### CNN 모델 만들기"
   ]
  },
  {
   "cell_type": "code",
   "execution_count": 4,
   "id": "c2650dbc",
   "metadata": {},
   "outputs": [],
   "source": [
    "class CNN(nn.Module):\n",
    "    def __init__(self, hid_size, kernel_size, out_size, batch_size, dropout=0.3):\n",
    "        super(CNN, self).__init__()\n",
    "        self.batch_size = batch_size\n",
    "        self.k_size = kernel_size\n",
    "        self.in_size = 10 * (299 - (2 * (self.k_size - 1)))**2\n",
    "        self.h_size = hid_size\n",
    "        self.out_size = out_size\n",
    "        self.dropout = dropout\n",
    "        \n",
    "        self.conv1 = nn.Conv2d(in_channels=1, out_channels=3, kernel_size=self.k_size, stride=1)\n",
    "        self.conv2 = nn.Conv2d(in_channels=3, out_channels=10, kernel_size=self.k_size, stride=1)\n",
    "        self.fc1 = nn.Linear(self.in_size, self.h_size)\n",
    "        self.fc2 = nn.Linear(self.h_size, self.out_size)\n",
    "        self.dropout = nn.Dropout(self.dropout)\n",
    "        \n",
    "    def forward(self, inputs):\n",
    "        x = F.relu(self.conv1(inputs))\n",
    "        #print(\"conv1 output's size\", x.shape)\n",
    "        x = F.relu(self.conv2(x))\n",
    "        #print(\"conv2 output's size\", x.shape)\n",
    "        x = x.view(self.batch_size, -1)\n",
    "        #print(\"fc1 input's size\", x.shape)\n",
    "        x = F.relu(self.fc1(x))\n",
    "        #print(\"fc1 output's size\", x.shape)\n",
    "        x = self.fc2(x)\n",
    "        #print(\"fc2 output's size\", x.shape)\n",
    "        \n",
    "        return x"
   ]
  },
  {
   "cell_type": "markdown",
   "id": "a068d17a",
   "metadata": {},
   "source": [
    "### Dataset 준비"
   ]
  },
  {
   "cell_type": "code",
   "execution_count": 5,
   "id": "6f1b7e8f",
   "metadata": {},
   "outputs": [],
   "source": [
    "class Dataset(torch.utils.data.Dataset):\n",
    "    def __init__(self, images, labels):\n",
    "        self.images = images\n",
    "        self.labels = labels\n",
    "        \n",
    "    def __getitem__(self, idx):\n",
    "        images = self.images[idx].unsqueeze(0)\n",
    "        item = {'images': images}\n",
    "        item['labels'] = self.labels[idx]\n",
    "        return item\n",
    "    \n",
    "    def __len__(self):\n",
    "        return len(self.labels)"
   ]
  },
  {
   "cell_type": "markdown",
   "id": "fbc57434",
   "metadata": {},
   "source": [
    "### Train, Test"
   ]
  },
  {
   "cell_type": "code",
   "execution_count": 9,
   "id": "2208227f",
   "metadata": {},
   "outputs": [],
   "source": [
    "def train(dataloader, model, optimizer, loss_fn):\n",
    "    model.train()\n",
    "    \n",
    "    epoch_loss = 0\n",
    "    size = len(dataloader.dataset)\n",
    "    \n",
    "    for i, batch in enumerate(dataloader):\n",
    "        images = batch['images'].to(device)\n",
    "        labels = batch['labels'].to(device)\n",
    "        \n",
    "        outputs = model(images)\n",
    "        \n",
    "        optimizer.zero_grad()\n",
    "        loss = loss_fn(outputs, labels)\n",
    "        epoch_loss += loss.item()\n",
    "        loss.backward()\n",
    "        optimizer.step()\n",
    "        \n",
    "    print('Training Loss: {:.3f}'.format(epoch_loss/size))\n",
    "    \n",
    "    \n",
    "def test(dataloader, model, loss_fn):\n",
    "    model.eval()\n",
    "    \n",
    "    acc = 0\n",
    "    test_loss = 0\n",
    "    size = len(dataloader.dataset)\n",
    "    \n",
    "    with torch.no_grad():\n",
    "        for batch in dataloader:\n",
    "            images = batch['images'].to(device)\n",
    "            labels = batch['labels'].to(device)\n",
    "            \n",
    "            outputs = model(images)\n",
    "            \n",
    "            test_loss += loss_fn(outputs, labels).item()\n",
    "            acc += (outputs.softmax(1).argmax(1) == labels).type(torch.float).sum().item()\n",
    "            \n",
    "        test_loss /= size\n",
    "        acc /= size\n",
    "        \n",
    "        print(\"Test Loss: {:.3f}, Accuracy: {:.3f}\".format(test_loss, acc*100))"
   ]
  },
  {
   "cell_type": "markdown",
   "id": "8eff5a14",
   "metadata": {},
   "source": [
    "모델 생성"
   ]
  },
  {
   "cell_type": "code",
   "execution_count": 7,
   "id": "40d8566d",
   "metadata": {
    "scrolled": false
   },
   "outputs": [
    {
     "data": {
      "text/plain": [
       "CNN(\n",
       "  (conv1): Conv2d(1, 3, kernel_size=(128, 128), stride=(1, 1))\n",
       "  (conv2): Conv2d(3, 10, kernel_size=(128, 128), stride=(1, 1))\n",
       "  (fc1): Linear(in_features=20250, out_features=128, bias=True)\n",
       "  (fc2): Linear(in_features=128, out_features=2, bias=True)\n",
       "  (dropout): Dropout(p=0.3, inplace=False)\n",
       ")"
      ]
     },
     "execution_count": 7,
     "metadata": {},
     "output_type": "execute_result"
    }
   ],
   "source": [
    "batch_size=32\n",
    "\n",
    "model = CNN(128, 128, 2, batch_size)\n",
    "model.to(device)"
   ]
  },
  {
   "cell_type": "markdown",
   "id": "173f11ac",
   "metadata": {},
   "source": [
    "- 하이퍼파라미터 설정\n",
    "- train, test 돌리기"
   ]
  },
  {
   "cell_type": "code",
   "execution_count": null,
   "id": "dd94993c",
   "metadata": {
    "scrolled": false
   },
   "outputs": [
    {
     "name": "stderr",
     "output_type": "stream",
     "text": [
      "\r",
      "  0%|                                                                                            | 0/3 [00:00<?, ?it/s]"
     ]
    },
    {
     "name": "stdout",
     "output_type": "stream",
     "text": [
      "Epoch 1\n"
     ]
    }
   ],
   "source": [
    "optimizer = torch.optim.Adam(model.parameters(), lr=3e-4)\n",
    "loss_fn = nn.CrossEntropyLoss()\n",
    "num_epochs = 3\n",
    "\n",
    "train_dataset = Dataset(train_img, train_labels)\n",
    "valid_dataset = Dataset(valid_img, valid_img)\n",
    "\n",
    "train_dataloader = DataLoader(train_dataset, batch_size=batch_size, shuffle=True)\n",
    "valid_dataloader = DataLoader(valid_dataset, batch_size=batch_size, shuffle=True)\n",
    "\n",
    "for i in notebook_tqdm(range(num_epochs)):\n",
    "    print(\"Epoch {:}\".format(i+1))\n",
    "    train(train_dataloader, model, optimizer, loss_fn)\n",
    "    test(valid_dataloader, model, loss_fn)"
   ]
  },
  {
   "cell_type": "code",
   "execution_count": null,
   "id": "14c6e847",
   "metadata": {},
   "outputs": [],
   "source": []
  }
 ],
 "metadata": {
  "kernelspec": {
   "display_name": "AI_5",
   "language": "python",
   "name": "ai_5"
  },
  "language_info": {
   "codemirror_mode": {
    "name": "ipython",
    "version": 3
   },
   "file_extension": ".py",
   "mimetype": "text/x-python",
   "name": "python",
   "nbconvert_exporter": "python",
   "pygments_lexer": "ipython3",
   "version": "3.8.16"
  }
 },
 "nbformat": 4,
 "nbformat_minor": 5
}
